{
  "cells": [
    {
      "cell_type": "markdown",
      "metadata": {
        "id": "view-in-github",
        "colab_type": "text"
      },
      "source": [
        "<a href=\"https://colab.research.google.com/github/aksshiny/anil/blob/master/German_credit_data_IIMBG.ipynb\" target=\"_parent\"><img src=\"https://colab.research.google.com/assets/colab-badge.svg\" alt=\"Open In Colab\"/></a>"
      ]
    },
    {
      "cell_type": "code",
      "execution_count": 12,
      "id": "71ff2dab",
      "metadata": {
        "id": "71ff2dab"
      },
      "outputs": [],
      "source": [
        "import pandas as pd\n",
        "import numpy as np\n",
        "import seaborn as sn\n",
        "import matplotlib.pyplot as plt"
      ]
    },
    {
      "cell_type": "code",
      "source": [
        "from google.colab import drive\n",
        "drive.mount('/content/drive')"
      ],
      "metadata": {
        "colab": {
          "base_uri": "https://localhost:8080/"
        },
        "id": "-58Dd_lIXf6X",
        "outputId": "84beb7c6-300c-4446-afbb-a1b7f5c05868"
      },
      "id": "-58Dd_lIXf6X",
      "execution_count": 14,
      "outputs": [
        {
          "output_type": "stream",
          "name": "stdout",
          "text": [
            "Drive already mounted at /content/drive; to attempt to forcibly remount, call drive.mount(\"/content/drive\", force_remount=True).\n"
          ]
        }
      ]
    },
    {
      "cell_type": "code",
      "execution_count": 16,
      "id": "e99a06f9",
      "metadata": {
        "id": "e99a06f9"
      },
      "outputs": [],
      "source": [
        "churn_df = pd.read_csv( \"/content/drive/MyDrive/Colab Notebooks/German Credit Data.csv\" )"
      ]
    },
    {
      "cell_type": "code",
      "execution_count": null,
      "id": "0e65eb13",
      "metadata": {
        "colab": {
          "base_uri": "https://localhost:8080/"
        },
        "id": "0e65eb13",
        "outputId": "4fbc98fa-a842-4762-fbf8-4ef82be90324"
      },
      "outputs": [
        {
          "output_type": "stream",
          "name": "stdout",
          "text": [
            "<class 'pandas.core.frame.DataFrame'>\n",
            "RangeIndex: 1000 entries, 0 to 999\n",
            "Data columns (total 14 columns):\n",
            " #   Column             Non-Null Count  Dtype \n",
            "---  ------             --------------  ----- \n",
            " 0   checkin_acc        1000 non-null   object\n",
            " 1   duration           1000 non-null   int64 \n",
            " 2   credit_history     1000 non-null   object\n",
            " 3   amount             1000 non-null   int64 \n",
            " 4   savings_acc        1000 non-null   object\n",
            " 5   present_emp_since  1000 non-null   object\n",
            " 6   inst_rate          1000 non-null   int64 \n",
            " 7   personal_status    1000 non-null   object\n",
            " 8   residing_since     1000 non-null   int64 \n",
            " 9   age                1000 non-null   int64 \n",
            " 10  inst_plans         1000 non-null   object\n",
            " 11  num_credits        1000 non-null   int64 \n",
            " 12  job                1000 non-null   object\n",
            " 13  status             1000 non-null   int64 \n",
            "dtypes: int64(7), object(7)\n",
            "memory usage: 109.5+ KB\n"
          ]
        }
      ],
      "source": [
        "churn_df.info()"
      ]
    },
    {
      "cell_type": "code",
      "execution_count": 18,
      "id": "6465f8fd",
      "metadata": {
        "id": "6465f8fd",
        "outputId": "9273e495-1da3-488a-8def-519c77938e26",
        "colab": {
          "base_uri": "https://localhost:8080/"
        }
      },
      "outputs": [
        {
          "output_type": "stream",
          "name": "stdout",
          "text": [
            "<class 'pandas.core.frame.DataFrame'>\n",
            "RangeIndex: 1000 entries, 0 to 999\n",
            "Data columns (total 14 columns):\n",
            " #   Column             Non-Null Count  Dtype \n",
            "---  ------             --------------  ----- \n",
            " 0   checkin_acc        1000 non-null   object\n",
            " 1   duration           1000 non-null   int64 \n",
            " 2   credit_history     1000 non-null   object\n",
            " 3   amount             1000 non-null   int64 \n",
            " 4   savings_acc        1000 non-null   object\n",
            " 5   present_emp_since  1000 non-null   object\n",
            " 6   inst_rate          1000 non-null   int64 \n",
            " 7   personal_status    1000 non-null   object\n",
            " 8   residing_since     1000 non-null   int64 \n",
            " 9   age                1000 non-null   int64 \n",
            " 10  inst_plans         1000 non-null   object\n",
            " 11  num_credits        1000 non-null   int64 \n",
            " 12  job                1000 non-null   object\n",
            " 13  status             1000 non-null   int64 \n",
            "dtypes: int64(7), object(7)\n",
            "memory usage: 109.5+ KB\n"
          ]
        }
      ],
      "source": [
        "churn_df.info()"
      ]
    },
    {
      "cell_type": "code",
      "execution_count": 20,
      "id": "36e1a7bd",
      "metadata": {
        "id": "36e1a7bd"
      },
      "outputs": [],
      "source": [
        "churn_df.dropna(inplace=True)"
      ]
    },
    {
      "cell_type": "code",
      "execution_count": 21,
      "id": "6b518ea6",
      "metadata": {
        "id": "6b518ea6"
      },
      "outputs": [],
      "source": [
        "X_features = list( churn_df.columns )\n",
        "X_features.remove( 'status' )"
      ]
    },
    {
      "cell_type": "code",
      "execution_count": 22,
      "id": "baf1f83c",
      "metadata": {
        "colab": {
          "base_uri": "https://localhost:8080/"
        },
        "id": "baf1f83c",
        "outputId": "6353c4b9-af63-469b-ed6a-eb7e44f01421"
      },
      "outputs": [
        {
          "output_type": "execute_result",
          "data": {
            "text/plain": [
              "['duration',\n",
              " 'amount',\n",
              " 'inst_rate',\n",
              " 'residing_since',\n",
              " 'age',\n",
              " 'num_credits',\n",
              " 'checkin_acc_A12',\n",
              " 'checkin_acc_A13',\n",
              " 'checkin_acc_A14',\n",
              " 'credit_history_A31',\n",
              " 'credit_history_A32',\n",
              " 'credit_history_A33',\n",
              " 'credit_history_A34',\n",
              " 'savings_acc_A62',\n",
              " 'savings_acc_A63',\n",
              " 'savings_acc_A64',\n",
              " 'savings_acc_A65',\n",
              " 'present_emp_since_A72',\n",
              " 'present_emp_since_A73',\n",
              " 'present_emp_since_A74',\n",
              " 'present_emp_since_A75',\n",
              " 'personal_status_A92',\n",
              " 'personal_status_A93',\n",
              " 'personal_status_A94',\n",
              " 'inst_plans_A142',\n",
              " 'inst_plans_A143',\n",
              " 'job_A172',\n",
              " 'job_A173',\n",
              " 'job_A174']"
            ]
          },
          "metadata": {},
          "execution_count": 22
        }
      ],
      "source": [
        "encoded_churn_df = pd.get_dummies(churn_df[X_features], drop_first = True)\n",
        "list(encoded_churn_df.columns)"
      ]
    },
    {
      "cell_type": "code",
      "execution_count": 23,
      "id": "75ae030c",
      "metadata": {
        "colab": {
          "base_uri": "https://localhost:8080/"
        },
        "id": "75ae030c",
        "outputId": "6b8fee67-3207-47e1-a825-70375d313379"
      },
      "outputs": [
        {
          "output_type": "stream",
          "name": "stderr",
          "text": [
            "/usr/local/lib/python3.8/dist-packages/statsmodels/tsa/tsatools.py:142: FutureWarning: In a future version of pandas all arguments of concat except for the argument 'objs' will be keyword-only\n",
            "  x = pd.concat(x[::order], 1)\n"
          ]
        }
      ],
      "source": [
        "import statsmodels.api as sm\n",
        "Y = churn_df.status\n",
        "X = sm.add_constant( encoded_churn_df )"
      ]
    },
    {
      "cell_type": "code",
      "execution_count": 24,
      "id": "9a73bcae",
      "metadata": {
        "id": "9a73bcae"
      },
      "outputs": [],
      "source": [
        "from sklearn.model_selection import train_test_split\n",
        "X_train, X_test, y_train, y_test = train_test_split(X,Y,test_size = 0.3,random_state = 42)"
      ]
    },
    {
      "cell_type": "markdown",
      "source": [
        "# **`Logistic Regression `**"
      ],
      "metadata": {
        "id": "BpLy51x7UZrG"
      },
      "id": "BpLy51x7UZrG"
    },
    {
      "cell_type": "code",
      "execution_count": 25,
      "id": "37f01de7",
      "metadata": {
        "id": "37f01de7"
      },
      "outputs": [],
      "source": [
        "from sklearn.linear_model import LogisticRegression\n",
        "from sklearn import metrics"
      ]
    },
    {
      "cell_type": "code",
      "execution_count": 26,
      "id": "9d0a4249",
      "metadata": {
        "colab": {
          "base_uri": "https://localhost:8080/"
        },
        "id": "9d0a4249",
        "outputId": "455f1ee2-2ade-4249-c99a-eb31dcdc841f"
      },
      "outputs": [
        {
          "output_type": "stream",
          "name": "stderr",
          "text": [
            "/usr/local/lib/python3.8/dist-packages/sklearn/linear_model/_logistic.py:814: ConvergenceWarning: lbfgs failed to converge (status=1):\n",
            "STOP: TOTAL NO. of ITERATIONS REACHED LIMIT.\n",
            "\n",
            "Increase the number of iterations (max_iter) or scale the data as shown in:\n",
            "    https://scikit-learn.org/stable/modules/preprocessing.html\n",
            "Please also refer to the documentation for alternative solver options:\n",
            "    https://scikit-learn.org/stable/modules/linear_model.html#logistic-regression\n",
            "  n_iter_i = _check_optimize_result(\n"
          ]
        },
        {
          "output_type": "execute_result",
          "data": {
            "text/plain": [
              "LogisticRegression()"
            ]
          },
          "metadata": {},
          "execution_count": 26
        }
      ],
      "source": [
        "logreg = LogisticRegression()\n",
        "logreg.fit(X_train, y_train)"
      ]
    },
    {
      "cell_type": "code",
      "execution_count": 27,
      "id": "01eb874a",
      "metadata": {
        "colab": {
          "base_uri": "https://localhost:8080/"
        },
        "id": "01eb874a",
        "outputId": "ac0bf296-59d8-4b4a-e9be-0a37c8091707"
      },
      "outputs": [
        {
          "output_type": "stream",
          "name": "stdout",
          "text": [
            "Accuracy of logistic regression classifier on test set: 0.75\n"
          ]
        }
      ],
      "source": [
        "y_pred = logreg.predict(X_test)\n",
        "print('Accuracy of logistic regression classifier on test set: {:.2f}'.format(logreg.score(X_test, y_test)))"
      ]
    },
    {
      "cell_type": "markdown",
      "source": [
        "# **confusion matrix**"
      ],
      "metadata": {
        "id": "zapsNf7UUk_G"
      },
      "id": "zapsNf7UUk_G"
    },
    {
      "cell_type": "code",
      "execution_count": 28,
      "id": "68de83a0",
      "metadata": {
        "colab": {
          "base_uri": "https://localhost:8080/"
        },
        "id": "68de83a0",
        "outputId": "5e9d428e-fdbf-48a6-e859-e00117dfc498"
      },
      "outputs": [
        {
          "output_type": "stream",
          "name": "stdout",
          "text": [
            "[[195  14]\n",
            " [ 62  29]]\n",
            "              precision    recall  f1-score   support\n",
            "\n",
            "           0       0.76      0.93      0.84       209\n",
            "           1       0.67      0.32      0.43        91\n",
            "\n",
            "    accuracy                           0.75       300\n",
            "   macro avg       0.72      0.63      0.63       300\n",
            "weighted avg       0.73      0.75      0.71       300\n",
            "\n"
          ]
        }
      ],
      "source": [
        "from sklearn.metrics import confusion_matrix\n",
        "confusion_matrix = confusion_matrix(y_test, y_pred)\n",
        "print(confusion_matrix)\n",
        "\n",
        "from sklearn.metrics import classification_report\n",
        "print(classification_report(y_test, y_pred))"
      ]
    },
    {
      "cell_type": "markdown",
      "source": [
        "# **DecisionTreeClassifier**"
      ],
      "metadata": {
        "id": "kyAQ4JdOUxxU"
      },
      "id": "kyAQ4JdOUxxU"
    },
    {
      "cell_type": "code",
      "execution_count": 29,
      "id": "463c9a96",
      "metadata": {
        "id": "463c9a96"
      },
      "outputs": [],
      "source": [
        "import numpy as np\n",
        "from sklearn.model_selection import train_test_split\n",
        "from sklearn.tree import DecisionTreeClassifier\n",
        "from sklearn.inspection import permutation_importance\n",
        "from matplotlib import pyplot as plt\n",
        "from sklearn.model_selection import GridSearchCV"
      ]
    },
    {
      "cell_type": "code",
      "execution_count": 30,
      "id": "f3385593",
      "metadata": {
        "colab": {
          "base_uri": "https://localhost:8080/"
        },
        "id": "f3385593",
        "outputId": "275be0f2-613a-4830-8eac-f15dec0cde58"
      },
      "outputs": [
        {
          "output_type": "stream",
          "name": "stdout",
          "text": [
            "Fitting 10 folds for each of 72 candidates, totalling 720 fits\n"
          ]
        },
        {
          "output_type": "stream",
          "name": "stderr",
          "text": [
            "/usr/local/lib/python3.8/dist-packages/sklearn/model_selection/_validation.py:372: FitFailedWarning: \n",
            "400 fits failed out of a total of 720.\n",
            "The score on these train-test partitions for these parameters will be set to nan.\n",
            "If these failures are not expected, you can try to debug them by setting error_score='raise'.\n",
            "\n",
            "Below are more details about the failures:\n",
            "--------------------------------------------------------------------------------\n",
            "240 fits failed with the following error:\n",
            "Traceback (most recent call last):\n",
            "  File \"/usr/local/lib/python3.8/dist-packages/sklearn/model_selection/_validation.py\", line 680, in _fit_and_score\n",
            "    estimator.fit(X_train, y_train, **fit_params)\n",
            "  File \"/usr/local/lib/python3.8/dist-packages/sklearn/tree/_classes.py\", line 937, in fit\n",
            "    super().fit(\n",
            "  File \"/usr/local/lib/python3.8/dist-packages/sklearn/tree/_classes.py\", line 250, in fit\n",
            "    raise ValueError(\n",
            "ValueError: min_samples_split must be an integer greater than 1 or a float in (0.0, 1.0]; got the integer 1\n",
            "\n",
            "--------------------------------------------------------------------------------\n",
            "160 fits failed with the following error:\n",
            "Traceback (most recent call last):\n",
            "  File \"/usr/local/lib/python3.8/dist-packages/sklearn/model_selection/_validation.py\", line 680, in _fit_and_score\n",
            "    estimator.fit(X_train, y_train, **fit_params)\n",
            "  File \"/usr/local/lib/python3.8/dist-packages/sklearn/tree/_classes.py\", line 937, in fit\n",
            "    super().fit(\n",
            "  File \"/usr/local/lib/python3.8/dist-packages/sklearn/tree/_classes.py\", line 352, in fit\n",
            "    criterion = CRITERIA_CLF[self.criterion](\n",
            "KeyError: 'log_loss'\n",
            "\n",
            "  warnings.warn(some_fits_failed_message, FitFailedWarning)\n",
            "/usr/local/lib/python3.8/dist-packages/sklearn/model_selection/_search.py:969: UserWarning: One or more of the test scores are non-finite: [       nan 0.68857143 0.69571429        nan 0.68       0.68857143\n",
            "        nan 0.68714286 0.7               nan 0.68571429 0.69428571\n",
            "        nan 0.68285714 0.68285714        nan 0.67571429 0.68571429\n",
            "        nan 0.67857143 0.67428571        nan 0.68285714 0.68428571\n",
            "        nan 0.66571429 0.66857143        nan 0.66428571 0.67714286\n",
            "        nan 0.66857143 0.66857143        nan 0.66714286 0.67142857\n",
            "        nan 0.67142857 0.66285714        nan 0.64714286 0.66571429\n",
            "        nan 0.66571429 0.66142857        nan 0.67428571 0.67571429\n",
            "        nan        nan        nan        nan        nan        nan\n",
            "        nan        nan        nan        nan        nan        nan\n",
            "        nan        nan        nan        nan        nan        nan\n",
            "        nan        nan        nan        nan        nan        nan]\n",
            "  warnings.warn(\n"
          ]
        },
        {
          "output_type": "execute_result",
          "data": {
            "text/plain": [
              "{'criterion': 'gini', 'max_depth': 40, 'min_samples_split': 3}"
            ]
          },
          "metadata": {},
          "execution_count": 30
        }
      ],
      "source": [
        "## Configuring parameters and values for searched\n",
        "tuned_parameters = {'criterion': ['gini', 'entropy', 'log_loss'], 'max_depth': [20, 30, 40, 50, 60, 80, 90, 100], 'min_samples_split': [1, 2, 3]}\n",
        "\n",
        "\n",
        "\n",
        "dtree = GridSearchCV(DecisionTreeClassifier(),\n",
        "tuned_parameters,\n",
        "cv=10,\n",
        "scoring='accuracy',n_jobs = -1, verbose = 2)\n",
        "\n",
        "\n",
        "dtree.fit(X_train, y_train)\n",
        "dtree.best_params_\n",
        "\n"
      ]
    },
    {
      "cell_type": "code",
      "execution_count": 31,
      "id": "c997c577",
      "metadata": {
        "colab": {
          "base_uri": "https://localhost:8080/"
        },
        "id": "c997c577",
        "outputId": "29d8685f-325d-49e0-ae82-5ee36eeaace6"
      },
      "outputs": [
        {
          "output_type": "stream",
          "name": "stdout",
          "text": [
            "Accuracy of Decison Tree classifier on test set: 0.67\n"
          ]
        }
      ],
      "source": [
        "y_pred = dtree.predict(X_test)\n",
        "print('Accuracy of Decison Tree classifier on test set: {:.2f}'.format(dtree.score(X_test, y_test)))"
      ]
    },
    {
      "cell_type": "markdown",
      "source": [
        "# **confusion_matrix**"
      ],
      "metadata": {
        "id": "fc0yr08JU_jY"
      },
      "id": "fc0yr08JU_jY"
    },
    {
      "cell_type": "code",
      "execution_count": 32,
      "id": "2c1b776d",
      "metadata": {
        "colab": {
          "base_uri": "https://localhost:8080/"
        },
        "id": "2c1b776d",
        "outputId": "6d3f5d65-0476-473f-8e1f-0673d9ce6104"
      },
      "outputs": [
        {
          "output_type": "stream",
          "name": "stdout",
          "text": [
            "[[158  51]\n",
            " [ 48  43]]\n",
            "              precision    recall  f1-score   support\n",
            "\n",
            "           0       0.77      0.76      0.76       209\n",
            "           1       0.46      0.47      0.46        91\n",
            "\n",
            "    accuracy                           0.67       300\n",
            "   macro avg       0.61      0.61      0.61       300\n",
            "weighted avg       0.67      0.67      0.67       300\n",
            "\n"
          ]
        }
      ],
      "source": [
        "from sklearn.metrics import confusion_matrix\n",
        "confusion_matrix = confusion_matrix(y_test, y_pred)\n",
        "print(confusion_matrix)\n",
        "\n",
        "from sklearn.metrics import classification_report\n",
        "print(classification_report(y_test, y_pred))"
      ]
    },
    {
      "cell_type": "code",
      "execution_count": 33,
      "id": "b3390722",
      "metadata": {
        "id": "b3390722"
      },
      "outputs": [],
      "source": [
        "from sklearn.ensemble import RandomForestClassifier\n",
        "tuned_parameters = {'max_depth': [70, 80, 90, 100, 110,120,130],    #10, 15, 20, 30\n",
        "'n_estimators': [120, 130, 140, 150, 160, 170, 180],  #50, 70, 90, 100, 120, 160, 170, 180, 190, 200\n",
        "#'min_samples_split': [2, 3, 4, 5],\n",
        "#'min_samples_leaf': [1, 2, 3, 4, 5],\n",
        "#'bootstrap': ['True', 'false'],\n",
        "'max_features': ['sqrt', 'auto']}"
      ]
    },
    {
      "cell_type": "code",
      "execution_count": 34,
      "id": "6d9d8b42",
      "metadata": {
        "id": "6d9d8b42"
      },
      "outputs": [],
      "source": [
        "## Configuring search with the tunable parameters\n",
        "from sklearn.model_selection import GridSearchCV\n",
        "rnd_grid = GridSearchCV(RandomForestClassifier(),\n",
        "tuned_parameters,\n",
        "cv=10,\n",
        "scoring='accuracy',n_jobs = -1, verbose = 2)"
      ]
    },
    {
      "cell_type": "code",
      "execution_count": 35,
      "id": "d2d20421",
      "metadata": {
        "colab": {
          "base_uri": "https://localhost:8080/"
        },
        "id": "d2d20421",
        "outputId": "2c5b069b-1fed-4c17-f590-4260e8836884"
      },
      "outputs": [
        {
          "output_type": "stream",
          "name": "stdout",
          "text": [
            "Fitting 10 folds for each of 98 candidates, totalling 980 fits\n"
          ]
        },
        {
          "output_type": "execute_result",
          "data": {
            "text/plain": [
              "{'max_depth': 70, 'max_features': 'sqrt', 'n_estimators': 130}"
            ]
          },
          "metadata": {},
          "execution_count": 35
        }
      ],
      "source": [
        "rnd_grid.fit(X_train, y_train)\n",
        "rnd_grid.best_params_"
      ]
    },
    {
      "cell_type": "code",
      "execution_count": 36,
      "id": "9f9c6da4",
      "metadata": {
        "colab": {
          "base_uri": "https://localhost:8080/"
        },
        "id": "9f9c6da4",
        "outputId": "20d6a28f-7efd-4bed-859a-afd5db1d4a51"
      },
      "outputs": [
        {
          "output_type": "stream",
          "name": "stdout",
          "text": [
            "Accuracy of Random Forest classifier on test set: 0.76\n"
          ]
        }
      ],
      "source": [
        "y_pred = rnd_grid.predict(X_test)\n",
        "print('Accuracy of Random Forest classifier on test set: {:.2f}'.format(rnd_grid.score(X_test, y_test)))"
      ]
    },
    {
      "cell_type": "code",
      "execution_count": 37,
      "id": "5972a3f6",
      "metadata": {
        "colab": {
          "base_uri": "https://localhost:8080/"
        },
        "id": "5972a3f6",
        "outputId": "18244e5a-c2fd-478b-c0fc-d271ef6284e7"
      },
      "outputs": [
        {
          "output_type": "stream",
          "name": "stdout",
          "text": [
            "[[197  12]\n",
            " [ 61  30]]\n",
            "              precision    recall  f1-score   support\n",
            "\n",
            "           0       0.76      0.94      0.84       209\n",
            "           1       0.71      0.33      0.45        91\n",
            "\n",
            "    accuracy                           0.76       300\n",
            "   macro avg       0.74      0.64      0.65       300\n",
            "weighted avg       0.75      0.76      0.72       300\n",
            "\n"
          ]
        }
      ],
      "source": [
        "from sklearn.metrics import confusion_matrix\n",
        "confusion_matrix = confusion_matrix(y_test, y_pred)\n",
        "print(confusion_matrix)\n",
        "\n",
        "from sklearn.metrics import classification_report\n",
        "print(classification_report(y_test, y_pred))"
      ]
    },
    {
      "cell_type": "code",
      "execution_count": 38,
      "id": "255a5694",
      "metadata": {
        "id": "255a5694"
      },
      "outputs": [],
      "source": [
        "importances = rnd_grid.best_estimator_.feature_importances_\n",
        "#\n",
        "# Sort the feature importance in descending order\n",
        "#\n",
        "sorted_indices = np.argsort(importances)[::-1]"
      ]
    },
    {
      "cell_type": "code",
      "execution_count": 39,
      "id": "665b34ae",
      "metadata": {
        "colab": {
          "base_uri": "https://localhost:8080/",
          "height": 416
        },
        "id": "665b34ae",
        "outputId": "6bea5ad5-7499-4496-a9d6-98333ab976d6"
      },
      "outputs": [
        {
          "output_type": "display_data",
          "data": {
            "text/plain": [
              "<Figure size 800x480 with 1 Axes>"
            ],
            "image/png": "[encoded data removed]"
          },
          "metadata": {
            "needs_background": "light"
          }
        }
      ],
      "source": [
        "from matplotlib.pyplot import figure\n",
        "figure(figsize=(10, 6), dpi=80)\n",
        "plt.title('Feature Importance by Random Forest Classifier')\n",
        "plt.bar(range(X_train.shape[1]), importances[sorted_indices], align='center')\n",
        "plt.xticks(range(X_train.shape[1]), X_train.columns[sorted_indices], rotation=90)\n",
        "plt.tight_layout()\n",
        "plt.show()"
      ]
    },
    {
      "cell_type": "markdown",
      "source": [
        "# **SMOTE**"
      ],
      "metadata": {
        "id": "gLc8XuqoVVQ8"
      },
      "id": "gLc8XuqoVVQ8"
    },
    {
      "cell_type": "code",
      "source": [
        "from imblearn.over_sampling import SMOTE\n",
        "import pandas as pd\n",
        "\n",
        "# Load the dataset\n",
        "df = pd.read_csv(\"/content/drive/MyDrive/Colab Notebooks/German Credit Data.csv\")\n"
      ],
      "metadata": {
        "id": "vQSxhPdGvtTV"
      },
      "id": "vQSxhPdGvtTV",
      "execution_count": 46,
      "outputs": []
    },
    {
      "cell_type": "code",
      "source": [
        "# Encode the non-numeric columns using One-Hot Encoding\n",
        "df = pd.get_dummies(df, columns=df.columns[df.dtypes == 'object'])\n",
        "\n",
        "# Separate the features and status\n",
        "X = df.drop(\"status\", axis=1)\n",
        "y = df[\"status\"]\n",
        "\n",
        "# Convert the status column to a pandas Series\n",
        "y = pd.Series(y)\n",
        "\n",
        "# Apply SMOTE to oversample the minority class\n",
        "smote = SMOTE(sampling_strategy=\"minority\")\n",
        "X_resampled, y_resampled = smote.fit_resample(X, y)"
      ],
      "metadata": {
        "id": "-Y42YsLrEfxY"
      },
      "id": "-Y42YsLrEfxY",
      "execution_count": 47,
      "outputs": []
    },
    {
      "cell_type": "code",
      "source": [
        "# Split the data into training and testing sets\n",
        "from sklearn.model_selection import train_test_split\n",
        "X_train, X_test, y_train, y_test = train_test_split(X_resampled, y_resampled, test_size=0.2)"
      ],
      "metadata": {
        "id": "wfCU0JjuSgRc"
      },
      "id": "wfCU0JjuSgRc",
      "execution_count": 48,
      "outputs": []
    },
    {
      "cell_type": "code",
      "source": [
        "# Train the Random Forest classifier on the training data\n",
        "clf = RandomForestClassifier()\n",
        "clf.fit(X_train, y_train)"
      ],
      "metadata": {
        "colab": {
          "base_uri": "https://localhost:8080/"
        },
        "id": "IXBUY7ruSmZY",
        "outputId": "69546865-bc74-4444-db02-ac025df56b24"
      },
      "id": "IXBUY7ruSmZY",
      "execution_count": 49,
      "outputs": [
        {
          "output_type": "execute_result",
          "data": {
            "text/plain": [
              "RandomForestClassifier()"
            ]
          },
          "metadata": {},
          "execution_count": 49
        }
      ]
    },
    {
      "cell_type": "code",
      "source": [
        "# Make predictions on the test data\n",
        "y_pred = clf.predict(X_test)"
      ],
      "metadata": {
        "id": "wsP2SB0sSsS5"
      },
      "id": "wsP2SB0sSsS5",
      "execution_count": 50,
      "outputs": []
    },
    {
      "cell_type": "code",
      "source": [
        "# Calculate the accuracy of the classifier\n",
        "accuracy = accuracy_score(y_test, y_pred)\n",
        "print(\"Accuracy:\", accuracy)"
      ],
      "metadata": {
        "colab": {
          "base_uri": "https://localhost:8080/"
        },
        "id": "iWiRyV5kSv7I",
        "outputId": "cc71d8a3-4251-4eed-dcf8-5f903839d1b4"
      },
      "id": "iWiRyV5kSv7I",
      "execution_count": 51,
      "outputs": [
        {
          "output_type": "stream",
          "name": "stdout",
          "text": [
            "Accuracy: 0.8285714285714286\n"
          ]
        }
      ]
    }
  ],
  "metadata": {
    "kernelspec": {
      "display_name": "Python 3 (ipykernel)",
      "language": "python",
      "name": "python3"
    },
    "language_info": {
      "codemirror_mode": {
        "name": "ipython",
        "version": 3
      },
      "file_extension": ".py",
      "mimetype": "text/x-python",
      "name": "python",
      "nbconvert_exporter": "python",
      "pygments_lexer": "ipython3",
      "version": "3.9.7"
    },
    "colab": {
      "provenance": [],
      "include_colab_link": true
    }
  },
  "nbformat": 4,
  "nbformat_minor": 5
}